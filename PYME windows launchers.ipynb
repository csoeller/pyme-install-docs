{
 "cells": [
  {
   "cell_type": "markdown",
   "metadata": {},
   "source": [
    "# PYME app launchers in an anaconda environment\n",
    "\n",
    "## Make batch files that set the environment and act as launchers\n",
    "\n",
    "Example: file ```visgui-launcher.bat```\n",
    "\n",
    "    @echo off\n",
    "    setlocal\n",
    "    rem we need to check if we need a path setting and what path is correct for conda\n",
    "    set PATH=C:\\ProgramData\\Anaconda2\\condabin;%PATH%\n",
    "    \n",
    "    CALL conda.bat activate pyme-default-plain\n",
    "    rem echo %path%\n",
    "    visgui %1\n",
    "    CALL conda.bat deactivate\n",
    "\n",
    "This can be used with the windows' ```Open with...``` dialogue when you have selected a file in the file manager and ensures the proper environment is set up. First time around you need to chose ```Choose the default program``` and be sure to untick the box ```Always use the selected program to open this kind of file```, then select the batch file (e.g. ```visgui-launcher.bat```) to open the file with.\n",
    "\n",
    "### Where to store the launchers\n",
    "\n",
    "The launcher files are best kept in a separate folder, e.g. a ```launchers``` subfolder of the folder where the other PYME repositories are.\n",
    "\n",
    "### Making desktop shortcuts to the launchers\n",
    "\n",
    "Then it is also useful to make shortcuts to the launchers that appear on your desktop. Let me know if you are unsure how to do that.\n",
    "\n",
    "### A special issue with launchworkers\n",
    "\n",
    "The launchworkers launcher needs special attention since it creates logfiles when started. So one needs to cd to a suitable user writable directory before starting the actual launchworker script. This has tripped me up a few times as the launching of server and workers fails siletly and it looks like zeroconf can't connect.\n",
    "\n",
    "This has led me to look for a zeroconf issue when really zeroconf couldn't contact anything because server and worker processes had failed to start because they could not open their log files!!!\n",
    "\n",
    "Here is what we do at the moment:\n",
    "\n",
    "    @echo off\n",
    "    setlocal\n",
    "    set PATH=C:\\ProgramData\\Anaconda2\\condabin;%PATH%\n",
    "    \n",
    "    cd C:\\python-support\\log\n",
    "    \n",
    "    CALL conda.bat activate pyme-default-plain\n",
    "    rem echo %path%\n",
    "    launchworkers\n",
    "    CALL conda.bat deactivate\n",
    "\n",
    "I am not sure that ```C:\\python-support\\log``` is the best choice for a single user, you may just make a sub-directory called ```log``` within your directory that holds the other PYME repositories. Whichever directory is chosen, make sure that it is user writable in terms of permissions.\n",
    "\n"
   ]
  },
  {
   "cell_type": "code",
   "execution_count": null,
   "metadata": {},
   "outputs": [],
   "source": []
  }
 ],
 "metadata": {
  "kernelspec": {
   "display_name": "Python 2",
   "language": "python",
   "name": "python2"
  },
  "language_info": {
   "codemirror_mode": {
    "name": "ipython",
    "version": 2
   },
   "file_extension": ".py",
   "mimetype": "text/x-python",
   "name": "python",
   "nbconvert_exporter": "python",
   "pygments_lexer": "ipython2",
   "version": "2.7.16"
  }
 },
 "nbformat": 4,
 "nbformat_minor": 2
}
