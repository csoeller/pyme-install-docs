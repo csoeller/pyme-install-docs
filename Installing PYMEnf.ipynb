{
 "cells": [
  {
   "attachments": {},
   "cell_type": "markdown",
   "metadata": {},
   "source": [
    "# Install PYMEnf (PYME-nonfree)\n",
    "\n",
    "## Unzip the pymenf code\n",
    "\n",
    "I have resorted to distributing the PYMEnf code via a zip archive (long story why this is not shared via github at the moment). The file ```pymenf.zip``` is available from our ```CS lab``` Teams group chat in the ```Files``` section.\n",
    "\n",
    "Get the archive from there and unpack into the same directory that has already the ```python-microscopy``` and ```PYME-extra``` repos in it. Unpacking it should create a new folder ```pymenf```.\n",
    "\n",
    "\n",
    "## Build the pymenf code\n",
    "\n",
    "You want to now cd into the newly created pymenf directory and build the pymenf package as shown below.\n",
    "\n",
    "        # make sure you are in a terminal where the enviroment is activated!!!!\n",
    "        #\n",
    "        # normally you activate the environment first using the conda command below\n",
    "        # omit this step if you are already in the environment in the command shell\n",
    "        conda activate pyme-default-plain\n",
    "        # cd to the PYMEnf subdirectory before issuing the commands below!\n",
    "        \n",
    "        python setup.py develop\n",
    "        python install_plugins.py\n",
    "\n",
    "Note that we leave out the ```dist``` argument in the plugin install call since we are installing to your local login. We could probably also install to dist, but I want to try it like this first.\n",
    "\n",
    "## Check that we can use pymenf functionality in visgui\n",
    "\n",
    "If the build and plugin install worked ok, we should now have a new functionality for drift correction within VisGUI. In the ```Corrections``` menu there should be a new choice ```Model based drift correction``` as shown below. Check if this is present and if not it is time to start the trouble shooting:\n",
    "\n",
    "![pymenf-menu](images/pymenf-corrections.png)"
   ]
  },
  {
   "cell_type": "code",
   "execution_count": null,
   "metadata": {},
   "outputs": [],
   "source": []
  }
 ],
 "metadata": {
  "kernelspec": {
   "display_name": "Python 2",
   "language": "python",
   "name": "python2"
  },
  "language_info": {
   "codemirror_mode": {
    "name": "ipython",
    "version": 2
   },
   "file_extension": ".py",
   "mimetype": "text/x-python",
   "name": "python",
   "nbconvert_exporter": "python",
   "pygments_lexer": "ipython2",
   "version": "2.7.16"
  }
 },
 "nbformat": 4,
 "nbformat_minor": 2
}
