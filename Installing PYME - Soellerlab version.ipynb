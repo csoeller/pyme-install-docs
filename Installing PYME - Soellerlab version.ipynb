{
 "cells": [
  {
   "cell_type": "markdown",
   "metadata": {},
   "source": [
    "# Installing PYME on windows 10\n",
    "\n",
    "## Installation customised for Soellerlab at the University of Exeter\n",
    "\n",
    "\n",
    "This is a custom install that should ultimately work on most windows 10 machines. The install has the goal to make the latest code available relatively easily. It also reflects the recent move of most code to github."
   ]
  },
  {
   "cell_type": "markdown",
   "metadata": {},
   "source": [
    "### Installation overview\n",
    "\n",
    "The complete install can be broken down into a few higher level steps as follows:\n",
    "\n",
    "1. Install the Anaconda python packaging system.\n",
    "\n",
    "2. Install a github client to allow downloading the latest code from our code repositories.\n",
    "\n",
    "3. Download the relevant code repositories using the github client.\n",
    "\n",
    "4. Build the main code packages using their respective setup procedures.\n",
    "\n",
    "5. Make a few shortcut files etc to simplify launching the various apps (visgui, dh5view, etc).\n",
    "\n",
    "6. Test the install."
   ]
  },
  {
   "attachments": {},
   "cell_type": "markdown",
   "metadata": {},
   "source": [
    "#### 1. Install the Anaconda packaging system\n",
    "\n",
    "STEP 1: Install Miniconda\n",
    "\n",
    "Just follow the [STEP 1 paragraph](http://python-microscopy.org/doc/Installation/InstallationWithAnaconda.html#step-1-installing-miniconda) at David's site.\n",
    "\n",
    "STEP 2: Open an anaconda prompt\n",
    "\n",
    "Your start menu should contain an anaconda prompt command something like the one below:\n",
    "\n",
    "![startmenu](images/screenshot-miniconda-07b-startmenu.png)\n",
    "\n",
    "This should open a command window, that has the ```(base)``` label at the beginning, indicating you are running in the base environment:\n",
    "\n",
    "![anaconda-prompt](images/anaconda-prompt.png)\n",
    "\n",
    "STEP 3: Create the PYME default environment\n",
    "\n",
    "In the anaconda prompt window type the next 3 commands, one after another:\n",
    "\n",
    "```python\n",
    "conda config --append channels anaconda\n",
    "conda config --add channels david_baddeley\n",
    "conda create --name pyme-default-plain python=2.7 pyme-depends\n",
    "```\n",
    "\n",
    "STEP 4: Activate the PYME default environment\n",
    "\n",
    "Now activate the new conda environment in your anaconda prompt window by typing:\n",
    "\n",
    "    conda activate pyme-default-plain\n",
    "\n",
    "This should change your command prompt to show that you are now within the pyme-default-plain environment, i.e.  ```(base)``` has changed to ```(pyme-default-plain)```:\n",
    "\n",
    "![conda-activate](images/conda-activate-env.png)\n",
    "\n",
    "STEP 5: Attempt to install scikit-dev\n",
    "\n",
    "Next, try installing the scikit-image package. Ok if this succeeds, not fatal if not. Again, type in the anaconda prompt window:\n",
    "\n",
    "    conda install scikit-image\n"
   ]
  },
  {
   "cell_type": "markdown",
   "metadata": {},
   "source": [
    "#### 2. Install a github client\n",
    "\n",
    "Our new repositories are kept on github (previously they were on bitbucket). We therefore need to replace the previously used tortoisehg with a suitable github client.\n",
    "\n",
    "The currently preferred option is gitkraken.\n",
    "\n",
    "##### Install gitkraken\n",
    "\n"
   ]
  },
  {
   "cell_type": "code",
   "execution_count": null,
   "metadata": {},
   "outputs": [],
   "source": []
  }
 ],
 "metadata": {
  "kernelspec": {
   "display_name": "Python 2",
   "language": "python",
   "name": "python2"
  },
  "language_info": {
   "codemirror_mode": {
    "name": "ipython",
    "version": 2
   },
   "file_extension": ".py",
   "mimetype": "text/x-python",
   "name": "python",
   "nbconvert_exporter": "python",
   "pygments_lexer": "ipython2",
   "version": "2.7.16"
  }
 },
 "nbformat": 4,
 "nbformat_minor": 2
}
